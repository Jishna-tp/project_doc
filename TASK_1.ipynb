{
  "nbformat": 4,
  "nbformat_minor": 0,
  "metadata": {
    "colab": {
      "name": "TASK 1",
      "provenance": [],
      "collapsed_sections": [],
      "authorship_tag": "ABX9TyOq1Im9GJGgE997FTkLO3/D",
      "include_colab_link": true
    },
    "kernelspec": {
      "display_name": "Python 3",
      "name": "python3"
    },
    "language_info": {
      "name": "python"
    }
  },
  "cells": [
    {
      "cell_type": "markdown",
      "metadata": {
        "id": "view-in-github",
        "colab_type": "text"
      },
      "source": [
        "<a href=\"https://colab.research.google.com/github/Jishna-tp/test_demo/blob/master/TASK_1.ipynb\" target=\"_parent\"><img src=\"https://colab.research.google.com/assets/colab-badge.svg\" alt=\"Open In Colab\"/></a>"
      ]
    },
    {
      "cell_type": "markdown",
      "metadata": {
        "id": "fm1gm4ft8snF"
      },
      "source": [
        "1.Write a program that uses input to prompt a user for their name and then welcomes them."
      ]
    },
    {
      "cell_type": "code",
      "metadata": {
        "colab": {
          "base_uri": "https://localhost:8080/"
        },
        "id": "IlQ27_D45xwx",
        "outputId": "4c1c5c09-9505-4052-f4f6-b4d996a72562"
      },
      "source": [
        "name = input(\"enter name:\")\n",
        "print(\"Hello, \", name)"
      ],
      "execution_count": 2,
      "outputs": [
        {
          "output_type": "stream",
          "text": [
            "enter name:Jishna\n",
            "Hello,  Jishna\n"
          ],
          "name": "stdout"
        }
      ]
    },
    {
      "cell_type": "markdown",
      "metadata": {
        "id": "I4XYJUsU82Hh"
      },
      "source": [
        "2.Write a program which prompts the user for a Celsius temperature, convert the temperature to Fahrenheit, and print out the converted temperature."
      ]
    },
    {
      "cell_type": "code",
      "metadata": {
        "colab": {
          "base_uri": "https://localhost:8080/"
        },
        "id": "XM8XyA-j3Qoo",
        "outputId": "def44bc6-5ffe-49d2-9577-e78a0f7e0173"
      },
      "source": [
        "x = \"Hello\"\n",
        "y = \"World\"\n",
        "message = x + \" \" + y\n",
        "print(message)"
      ],
      "execution_count": null,
      "outputs": [
        {
          "output_type": "stream",
          "text": [
            "Hello World\n"
          ],
          "name": "stdout"
        }
      ]
    },
    {
      "cell_type": "markdown",
      "metadata": {
        "id": "FXF0549L867S"
      },
      "source": [
        "3.Write a Python program to convert degree to radian."
      ]
    },
    {
      "cell_type": "code",
      "metadata": {
        "colab": {
          "base_uri": "https://localhost:8080/"
        },
        "id": "6ydtoop73VPE",
        "outputId": "266111dc-722f-4950-bd6e-edce69f07361"
      },
      "source": [
        "pi = 3.14\n",
        "print(\"Value of pi is \"+ str(pi) +\" and its data type is \" + str(type(pi)))"
      ],
      "execution_count": null,
      "outputs": [
        {
          "output_type": "stream",
          "text": [
            "Value of pi is 3.14 and its data type is <class 'float'>\n"
          ],
          "name": "stdout"
        }
      ]
    }
  ]
}